{
 "cells": [
  {
   "cell_type": "code",
   "execution_count": 1,
   "metadata": {},
   "outputs": [],
   "source": [
    "import csv\n",
    "import pandas as pd\n",
    "import random\n",
    "from time import time\n",
    "from faker import Faker"
   ]
  },
  {
   "cell_type": "code",
   "execution_count": 3,
   "metadata": {},
   "outputs": [],
   "source": [
    "fake = Faker()\n",
    "uk_faker = Faker('en_GB')"
   ]
  },
  {
   "cell_type": "markdown",
   "metadata": {},
   "source": [
    "Desired data sample should have columns: ID, Company_id, Firstname, Surname, Address_line_1, Postcode"
   ]
  },
  {
   "cell_type": "code",
   "execution_count": 33,
   "metadata": {},
   "outputs": [
    {
     "name": "stdout",
     "output_type": "stream",
     "text": [
      "Flat 3\n",
      "Glen curve\n",
      "Ryanport\n",
      "M2 1BF\n",
      "33 Douglas spur\n",
      "South Iain\n",
      "B1 6TL\n",
      "15 Charlie meadow\n",
      "Mitchellmouth\n",
      "WS6 3NE\n",
      "3 Gill springs\n",
      "Leesport\n",
      "G7H 1GY\n",
      "Studio 37\n",
      "Vaughan dam\n",
      "Leighstad\n",
      "CM2 4BL\n"
     ]
    }
   ],
   "source": [
    "# checking if I can generate value for the column Address_line_1 using Faker \n",
    "\n",
    "for i in range(5):\n",
    "    print(uk_faker.address())"
   ]
  },
  {
   "cell_type": "code",
   "execution_count": 32,
   "metadata": {},
   "outputs": [
    {
     "data": {
      "text/plain": [
       "'Studio 08\\nBates roads\\nJanetshire\\nDG1A 6TW'"
      ]
     },
     "execution_count": 32,
     "metadata": {},
     "output_type": "execute_result"
    }
   ],
   "source": [
    "# checking if returned string has \\n or \\\\n\n",
    "\n",
    "uk_faker.address()"
   ]
  },
  {
   "cell_type": "code",
   "execution_count": 39,
   "metadata": {},
   "outputs": [
    {
     "data": {
      "text/plain": [
       "'Studio 41, Marshall islands, Reidside, SS6E 0FX'"
      ]
     },
     "execution_count": 39,
     "metadata": {},
     "output_type": "execute_result"
    }
   ],
   "source": [
    "# checking if replacing undesireble \"\\n\" with the \", \" works\n",
    "\n",
    "# this is needed in order to write to the csv correcly and not just the first part up to first \"\\n\"\n",
    "\n",
    "uk_faker.address().replace(\"\\n\", \", \")"
   ]
  },
  {
   "cell_type": "code",
   "execution_count": 5,
   "metadata": {},
   "outputs": [
    {
     "name": "stdout",
     "output_type": "stream",
     "text": [
      "Daniel\n",
      "Joel\n",
      "Julia\n",
      "Diana\n",
      "Dale\n"
     ]
    }
   ],
   "source": [
    "# checking if I can generate value for the column Firstname using Faker \n",
    "\n",
    "for i in range(5):\n",
    "    print(uk_faker.first_name())"
   ]
  },
  {
   "cell_type": "code",
   "execution_count": 6,
   "metadata": {},
   "outputs": [
    {
     "name": "stdout",
     "output_type": "stream",
     "text": [
      "Parry\n",
      "Booth\n",
      "Cunningham\n",
      "Bates\n",
      "Allen\n"
     ]
    }
   ],
   "source": [
    "# checking if I can generate value for the column Surname using Faker \n",
    "\n",
    "for i in range(5):\n",
    "    print(uk_faker.last_name())"
   ]
  },
  {
   "cell_type": "code",
   "execution_count": 7,
   "metadata": {},
   "outputs": [
    {
     "name": "stdout",
     "output_type": "stream",
     "text": [
      "L5D 7DE\n",
      "G22 9BU\n",
      "HU50 0RF\n",
      "B4 9PW\n",
      "E1T 7JX\n"
     ]
    }
   ],
   "source": [
    "# checking if I can generate value for the column Postcode using Faker \n",
    "\n",
    "for i in range(5):\n",
    "    print(uk_faker.postcode())"
   ]
  },
  {
   "cell_type": "code",
   "execution_count": 9,
   "metadata": {},
   "outputs": [
    {
     "name": "stdout",
     "output_type": "stream",
     "text": [
      "21082498\n",
      "89903810\n",
      "11804710\n",
      "12816972\n",
      "03470473\n"
     ]
    }
   ],
   "source": [
    "# checking if I can generate value for the column Company_ID using Faker \n",
    "\n",
    "for i in range(5):\n",
    "    print(fake.ean8())"
   ]
  },
  {
   "cell_type": "code",
   "execution_count": 21,
   "metadata": {},
   "outputs": [
    {
     "data": {
      "text/plain": [
       "str"
      ]
     },
     "execution_count": 21,
     "metadata": {},
     "output_type": "execute_result"
    }
   ],
   "source": [
    "# checking what type faker outputs\n",
    "\n",
    "type(fake.ean8())"
   ]
  },
  {
   "cell_type": "code",
   "execution_count": 38,
   "metadata": {},
   "outputs": [],
   "source": [
    "# time to create a csv file with the desired fake data\n",
    "\n",
    "RECORD_COUNT = 100\n",
    "\n",
    "\n",
    "def writeTo_csv():\n",
    "    with open('my_fake_data.csv', 'w', newline='') as csvfile:\n",
    "        fieldnames = ['ID', 'Company_ID', 'Firstname', 'Surname', 'Address_line_1', 'Postcode']\n",
    "        seed = 0\n",
    "        writer = csv.DictWriter(csvfile, fieldnames=fieldnames)\n",
    "        writer.writeheader()\n",
    "        for i in range(RECORD_COUNT):\n",
    "            seed += 1\n",
    "            writer.writerow({\"ID\": seed, \"Company_ID\": fake.ean8(), \"Firstname\": uk_faker.first_name(), \"Surname\": uk_faker.last_name(), \"Address_line_1\": uk_faker.address().replace(\"\\n\", \", \"), \"Postcode\": uk_faker.postcode() })\n",
    "\n",
    "if __name__ == '__main__':\n",
    "    writeTo_csv()  "
   ]
  },
  {
   "cell_type": "markdown",
   "metadata": {},
   "source": [
    "We now have our sample dataset that is populated the following columns with fake data generated by Faker.\n",
    "\n",
    "columns: ID, Company_id, Firstname, Surname, Address_line_1, Postcode\n",
    "\n",
    "Let's create another dataset with even more data in it.\n",
    "\n",
    "I will add columns with some fake company name and uk phone number."
   ]
  },
  {
   "cell_type": "code",
   "execution_count": 8,
   "metadata": {},
   "outputs": [
    {
     "name": "stdout",
     "output_type": "stream",
     "text": [
      "Medina, Nichols and Conner\n",
      "Shah PLC\n",
      "Graves, Taylor and Wolf\n",
      "Jones, Juarez and Benson\n",
      "Charles and Sons\n"
     ]
    }
   ],
   "source": [
    "# checking if I can generate value for the column Company_name using Faker \n",
    "\n",
    "for i in range(5):\n",
    "    print(fake.company())"
   ]
  },
  {
   "cell_type": "code",
   "execution_count": 41,
   "metadata": {},
   "outputs": [
    {
     "name": "stdout",
     "output_type": "stream",
     "text": [
      "350.723.2715x156\n",
      "001-632-630-8276\n",
      "313-892-9041x524\n",
      "+1-219-580-9073x10591\n",
      "+1-424-953-7589x332\n"
     ]
    }
   ],
   "source": [
    "# checking if I can generate uk phone numbers using Faker \n",
    "\n",
    "for i in range(5):\n",
    "    print(fake.phone_number())"
   ]
  },
  {
   "cell_type": "code",
   "execution_count": 48,
   "metadata": {},
   "outputs": [],
   "source": [
    "def phone_format(n):                                                                                                                                  \n",
    "    return format(int(n[:-1]), \",\").replace(\",\", \"-\") + n[-1] "
   ]
  },
  {
   "cell_type": "code",
   "execution_count": 49,
   "metadata": {},
   "outputs": [
    {
     "name": "stdout",
     "output_type": "stream",
     "text": [
      "+44(0)117 496 0429\n",
      "0191 498 0526\n",
      "0121 496 0295\n",
      "+44(0)1632960231\n",
      "+44(0)20 7496 0986\n"
     ]
    }
   ],
   "source": [
    "# checking if I can generate uk phone numbers using Faker with localisation 'en_GB'\n",
    "\n",
    "for i in range(5):\n",
    "    print(uk_faker.phone_number())"
   ]
  },
  {
   "cell_type": "code",
   "execution_count": 51,
   "metadata": {},
   "outputs": [
    {
     "data": {
      "text/plain": [
       "str"
      ]
     },
     "execution_count": 51,
     "metadata": {},
     "output_type": "execute_result"
    }
   ],
   "source": [
    "type(uk_faker.phone_number())"
   ]
  },
  {
   "cell_type": "code",
   "execution_count": 57,
   "metadata": {},
   "outputs": [
    {
     "name": "stdout",
     "output_type": "stream",
     "text": [
      "7259014112\n",
      "4713147282\n",
      "0360456327\n",
      "9945256529\n",
      "8333940827\n"
     ]
    }
   ],
   "source": [
    "# checking if I can generate uk phone numbers using Faker with localisation 'en_GB' using msisdn()\n",
    "\n",
    "# https://faker.readthedocs.io/en/master/providers/faker.providers.phone_number.html\n",
    "\n",
    "# fake.msisdn() returns very long strings of numbers to be a phone number so only taking last 10 digits from it\n",
    "\n",
    "for i in range(5):\n",
    "    print(fake.msisdn()[3:])"
   ]
  },
  {
   "cell_type": "code",
   "execution_count": 59,
   "metadata": {},
   "outputs": [
    {
     "name": "stdout",
     "output_type": "stream",
     "text": [
      "+44 0589404076\n"
     ]
    }
   ],
   "source": [
    "# manually creating uk phone number\n",
    "\n",
    "print(f'+44 {fake.msisdn()[3:]}')"
   ]
  },
  {
   "cell_type": "code",
   "execution_count": 60,
   "metadata": {},
   "outputs": [
    {
     "data": {
      "text/plain": [
       "str"
      ]
     },
     "execution_count": 60,
     "metadata": {},
     "output_type": "execute_result"
    }
   ],
   "source": [
    "#checking that we generated string\n",
    "\n",
    "type(f'+44 {fake.msisdn()[3:]}')"
   ]
  },
  {
   "cell_type": "code",
   "execution_count": 64,
   "metadata": {},
   "outputs": [],
   "source": [
    "# time to create a csv file with the desired second dataset with the fake data\n",
    "\n",
    "# this time with the following columns: ID, Company_id, Company_Name, Firstname, Surname, Address_line_1, Postcode, Phone.\n",
    "\n",
    "\n",
    "RECORD_COUNT = 100\n",
    "\n",
    "\n",
    "def writeTo_csv():\n",
    "    with open('my_fake_data_v2.csv', 'w', newline='') as csvfile:\n",
    "        fieldnames = ['ID', 'Company_ID', 'Company_Name', 'Firstname', 'Surname', 'Address_line_1', 'Postcode', 'Phone']\n",
    "        seed = 0\n",
    "        writer = csv.DictWriter(csvfile, fieldnames=fieldnames)\n",
    "        writer.writeheader()\n",
    "        for i in range(RECORD_COUNT):\n",
    "            seed += 1\n",
    "            writer.writerow({\"ID\": seed, \"Company_ID\": fake.ean8(), \"Company_Name\": fake.company(), \"Firstname\": uk_faker.first_name(), \"Surname\": uk_faker.last_name(), \"Address_line_1\": uk_faker.address().replace(\"\\n\", \", \"), \"Postcode\": uk_faker.postcode(), \"Phone\": f'+44 {fake.msisdn()[3:]}' })\n",
    "\n",
    "if __name__ == '__main__':\n",
    "    writeTo_csv()  "
   ]
  },
  {
   "cell_type": "code",
   "execution_count": null,
   "metadata": {},
   "outputs": [],
   "source": []
  }
 ],
 "metadata": {
  "kernelspec": {
   "display_name": "Python 3",
   "language": "python",
   "name": "python3"
  },
  "language_info": {
   "codemirror_mode": {
    "name": "ipython",
    "version": 3
   },
   "file_extension": ".py",
   "mimetype": "text/x-python",
   "name": "python",
   "nbconvert_exporter": "python",
   "pygments_lexer": "ipython3",
   "version": "3.7.6"
  }
 },
 "nbformat": 4,
 "nbformat_minor": 4
}
